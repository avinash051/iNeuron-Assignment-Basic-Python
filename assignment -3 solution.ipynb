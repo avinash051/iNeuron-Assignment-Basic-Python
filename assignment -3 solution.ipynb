{
 "cells": [
  {
   "cell_type": "markdown",
   "id": "a5fdb45b",
   "metadata": {},
   "source": [
    "1. Why are functions advantageous to have in your programs?"
   ]
  },
  {
   "cell_type": "markdown",
   "id": "3c9f9c84",
   "metadata": {},
   "source": [
    "Ans. \n",
    "\n",
    "1. code reusability\n",
    "2. Reduce the dublicate code\n",
    "3. code readability enhancement \n",
    "4. complex problem we can write in a simple and smal code\n",
    "5. we have a option for function call , so once we define and multiple times we can call same \n",
    "   funtion with differnet operation.\n",
    "   "
   ]
  },
  {
   "cell_type": "markdown",
   "id": "98b76e5b",
   "metadata": {},
   "source": [
    "2. When does the code in a function run: when it's specified or when it's called?"
   ]
  },
  {
   "cell_type": "markdown",
   "id": "af8cf147",
   "metadata": {},
   "source": [
    "Ans. \n",
    "\n",
    "when it's called . "
   ]
  },
  {
   "cell_type": "markdown",
   "id": "c0a1fa2e",
   "metadata": {},
   "source": [
    "3. What statement creates a function?"
   ]
  },
  {
   "cell_type": "markdown",
   "id": "306d3b0d",
   "metadata": {},
   "source": [
    "A funtion created with def keyword in function .\n",
    "eg.\n",
    "\n",
    "def lazy():\n",
    "\n",
    "    print(\"i am lazy\")\n",
    "    \n",
    "fun1()    \n",
    "    "
   ]
  },
  {
   "cell_type": "markdown",
   "id": "f7309d44",
   "metadata": {},
   "source": [
    "4. What is the difference between a function and a function call?"
   ]
  },
  {
   "cell_type": "markdown",
   "id": "555dfda7",
   "metadata": {},
   "source": [
    "Ans. \n",
    "\n",
    "funtion is a process of acheving particular result whereas function call is used to acheive the result.\n",
    "\n",
    "eg.\n",
    "\n",
    "def abc():\n",
    "\n",
    "    print(\"I am a test function\")\n",
    "    \n",
    "abc()    "
   ]
  },
  {
   "cell_type": "markdown",
   "id": "210c0512",
   "metadata": {},
   "source": [
    "5. How many global scopes are there in a Python program? How many local scopes?\n"
   ]
  },
  {
   "cell_type": "markdown",
   "id": "6c4931f1",
   "metadata": {},
   "source": [
    "Ans. \n",
    "\n",
    "\n",
    "A variable created in the main body of the Python code is a global variable and variable declared inside the scope \n",
    "called as local scope. \n",
    "global scope is only one but when ever you declared variable whithin function scope called as local scope. \n",
    "\n",
    "eg.\n",
    "a = 400\n",
    "\n",
    "def func(arg):\n",
    "    \n",
    "    \n",
    "    var = 100\n",
    "    \n",
    "    \n",
    "    print(locals())\n",
    "        \n",
    "    another = 200\n",
    "        \n",
    "        \n",
    "func(300)\n",
    "\n",
    "Hence a is declared in global scope where as var is declared in local scope. "
   ]
  },
  {
   "cell_type": "markdown",
   "id": "a687e64b",
   "metadata": {},
   "source": [
    "6. What happens to variables in a local scope when the function call returns?"
   ]
  },
  {
   "cell_type": "markdown",
   "id": "24462742",
   "metadata": {},
   "source": [
    "Ans. \n",
    "when we define any variable in local scope then we can use that varibale in that partcular scope only, we can not\n",
    "use that varible in other scope of the function until it is global."
   ]
  },
  {
   "cell_type": "markdown",
   "id": "0006b800",
   "metadata": {},
   "source": [
    "7. What is the concept of a return value? Is it possible to have a return value in an expression?"
   ]
  },
  {
   "cell_type": "markdown",
   "id": "fb0e96ec",
   "metadata": {},
   "source": [
    "Ans. \n",
    "\n",
    "The Python return statement is a special statement that you can use inside a function or method to send the function’s result back to the caller. Everything in Python is an object. So, functions can return numeric values (int, float, and complex values), collections and sequences of objects (list, tuple, dictionary, or set objects), user-defined objects, classes, functions, and even modules or packages.\n",
    "\n",
    "yes, it is possible to return value in an expresion.\n",
    "\n",
    "eg.\n",
    "\n",
    "def fun1(a,b):\n",
    "\n",
    "    return a,b\n",
    "    \n",
    "fun1(10+12, 12+4)\n",
    "\n",
    "o/p - (22, 16)"
   ]
  },
  {
   "cell_type": "markdown",
   "id": "46a2d1aa",
   "metadata": {},
   "source": [
    "8. If a function does not have a return statement, what is the return value of a call to that function?"
   ]
  },
  {
   "cell_type": "markdown",
   "id": "3a1d45a8",
   "metadata": {},
   "source": [
    "Ans. \n",
    "\n",
    "\n",
    "undefined"
   ]
  },
  {
   "cell_type": "markdown",
   "id": "0da056f7",
   "metadata": {},
   "source": [
    "9. How do you make a function variable refer to the global variable?"
   ]
  },
  {
   "cell_type": "markdown",
   "id": "1fce0ea5",
   "metadata": {},
   "source": [
    "gval = \"avinash\";\n",
    "def fun1():\n",
    "    return gval\n",
    "fun1()\n",
    "\n",
    "o/p - 'avinash'"
   ]
  },
  {
   "cell_type": "markdown",
   "id": "1097a2f8",
   "metadata": {},
   "source": [
    "10. What is the data type of None?\n",
    "\n"
   ]
  },
  {
   "cell_type": "markdown",
   "id": "447e4291",
   "metadata": {},
   "source": [
    "Ans. \n",
    "\n",
    "a = None\n",
    "type(a)\n",
    "\n",
    "o/p - NoneType"
   ]
  },
  {
   "cell_type": "markdown",
   "id": "c5674e55",
   "metadata": {},
   "source": [
    "11. What does the sentence import areallyourpetsnamederic do?"
   ]
  },
  {
   "cell_type": "markdown",
   "id": "1f0605df",
   "metadata": {},
   "source": [
    "Ans.\n",
    "\n",
    "This sentence imports the module “areallyourpetsnamederic “"
   ]
  },
  {
   "cell_type": "markdown",
   "id": "cc6fe34b",
   "metadata": {},
   "source": [
    "12. If you had a bacon() feature in a spam module, what would you call it after importing spam?"
   ]
  },
  {
   "cell_type": "markdown",
   "id": "098b8ba5",
   "metadata": {},
   "source": [
    "Ans. \n",
    "\n",
    "It is called with spam.balcom()"
   ]
  },
  {
   "cell_type": "markdown",
   "id": "a37f60c8",
   "metadata": {},
   "source": [
    "13. What can you do to save a programme from crashing if it encounters an error?\n"
   ]
  },
  {
   "cell_type": "markdown",
   "id": "9f067dc0",
   "metadata": {},
   "source": [
    "Ans. \n",
    "\n",
    "we can do exceptional handling to save programme from crashing and we can ecounter the error with error msg printing."
   ]
  },
  {
   "cell_type": "markdown",
   "id": "63072348",
   "metadata": {},
   "source": [
    "14. What is the purpose of the try clause? What is the purpose of the except clause?"
   ]
  },
  {
   "cell_type": "markdown",
   "id": "3549fde5",
   "metadata": {},
   "source": [
    "Ans. \n",
    "\n",
    "In the try clause, all statements are executed until an exception is encountered. \n",
    "except is used to catch and handle the exception that are encountered in the try clause. "
   ]
  }
 ],
 "metadata": {
  "kernelspec": {
   "display_name": "Python 3 (ipykernel)",
   "language": "python",
   "name": "python3"
  },
  "language_info": {
   "codemirror_mode": {
    "name": "ipython",
    "version": 3
   },
   "file_extension": ".py",
   "mimetype": "text/x-python",
   "name": "python",
   "nbconvert_exporter": "python",
   "pygments_lexer": "ipython3",
   "version": "3.9.7"
  }
 },
 "nbformat": 4,
 "nbformat_minor": 5
}
