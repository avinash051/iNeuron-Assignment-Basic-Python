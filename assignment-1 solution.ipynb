{
 "cells": [
  {
   "cell_type": "markdown",
   "id": "ba3a1c15",
   "metadata": {},
   "source": [
    "1. In the below elements which of them are values or an expression? eg:- values can be integer or string and expressions will be mathematical operators.\n",
    "     \n",
    "     *\n",
    "     \n",
    "    'hello'\n",
    "    \n",
    "    -87.8\n",
    "    \n",
    "     - \n",
    "    \n",
    "     / \n",
    "\n",
    "     6 \n"
   ]
  },
  {
   "cell_type": "markdown",
   "id": "4f0bf513",
   "metadata": {},
   "source": [
    "Ans. - 'hello', -87.8 ,6 are values and *, - ,/ are operators"
   ]
  },
  {
   "cell_type": "markdown",
   "id": "f2687238",
   "metadata": {},
   "source": [
    "2. What is the difference between string and variable?"
   ]
  },
  {
   "cell_type": "markdown",
   "id": "41fcdaea",
   "metadata": {},
   "source": [
    "Ans. \n",
    "string -   value enterd inside the quote eg. \"avin\", \"23\"\n",
    "variable - variable is basically name of a loaction in the primary memory of your computer which can \n",
    "           choosen by you. like a = \"avin\" , abc = 34, l = \"avin051\". Here a, abc and l are variable which\n",
    "           store some data."
   ]
  },
  {
   "cell_type": "markdown",
   "id": "32772197",
   "metadata": {},
   "source": [
    "3. Describe three different data types"
   ]
  },
  {
   "cell_type": "markdown",
   "id": "742ee8ad",
   "metadata": {},
   "source": [
    "Ans.  - \n",
    "Int - whole number eg. 4,5,45\n",
    "Float - number in deciaml form. eg. - 34.23, 45.05, 3.1 \n",
    "string  - Alphanumeric characters eg. \"hello world\", \"hello\", \"wake up sid\""
   ]
  },
  {
   "cell_type": "markdown",
   "id": "40d04a02",
   "metadata": {},
   "source": [
    "4. What is an expression made up of? What do all expressions do?"
   ]
  },
  {
   "cell_type": "markdown",
   "id": "ebed0229",
   "metadata": {},
   "source": [
    "Ans. - expression made up with number, float, string, = , <,> and operators. eg.  4+2, p = (a + b) >= (c - d) , s = \"a\"+\"vin\""
   ]
  },
  {
   "cell_type": "markdown",
   "id": "b6918186",
   "metadata": {},
   "source": [
    "5. This assignment statements, like spam = 10. What is the difference between an expression and a statement?"
   ]
  },
  {
   "cell_type": "markdown",
   "id": "296d649c",
   "metadata": {},
   "source": [
    "Ans.  \n",
    "\n",
    "       expression - \n",
    "\n",
    "       An Expression is a combination of values, variables, operators and function calls that always produces or          returns a result value\n",
    "       eg. x = 5, y = 3, z = x + y\n",
    "       \n",
    "       Statement -\n",
    "       \n",
    "       Any instructor that python enterpreter can execute is called as Statement. \n",
    "       \n",
    "       a = 2\n",
    "       print(a)\n",
    "       o/p. - 2  ## Here 2 is assigned with variable a, and A stament made with such assignment. \n",
    "       \n",
    "       "
   ]
  },
  {
   "cell_type": "markdown",
   "id": "e39088ea",
   "metadata": {},
   "source": [
    "6. After running the following code, what does the variable bacon contain?\n",
    "    \n",
    "    bacon = 22 ,\n",
    "    bacon + 1"
   ]
  },
  {
   "cell_type": "markdown",
   "id": "1973fec0",
   "metadata": {},
   "source": [
    "Ans.  23"
   ]
  },
  {
   "cell_type": "markdown",
   "id": "c4e96a66",
   "metadata": {},
   "source": [
    "7. What should the values of the following two terms be?\n",
    " 'spam' + 'spamspam'\n",
    "'spam' * 3"
   ]
  },
  {
   "cell_type": "markdown",
   "id": "ba5ffcdf",
   "metadata": {},
   "source": [
    "'spamspamspam'\n",
    "'spamspamspam'"
   ]
  }
 ],
 "metadata": {
  "kernelspec": {
   "display_name": "Python 3 (ipykernel)",
   "language": "python",
   "name": "python3"
  },
  "language_info": {
   "codemirror_mode": {
    "name": "ipython",
    "version": 3
   },
   "file_extension": ".py",
   "mimetype": "text/x-python",
   "name": "python",
   "nbconvert_exporter": "python",
   "pygments_lexer": "ipython3",
   "version": "3.9.7"
  }
 },
 "nbformat": 4,
 "nbformat_minor": 5
}
