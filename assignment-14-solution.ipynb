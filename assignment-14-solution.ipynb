{
 "cells": [
  {
   "cell_type": "markdown",
   "id": "a242d118",
   "metadata": {},
   "source": [
    "1. What does RGBA stand for?"
   ]
  },
  {
   "cell_type": "markdown",
   "id": "ab00cb36",
   "metadata": {},
   "source": [
    "Ans. \n",
    "\n",
    "RGBA is a four-channel format containing data for Red, Green, Blue, and an Alpha value. Where Alpha Represents the Opacity. Each value is a floating point number between 0.0 and 1.0. For example, the tuple (1, 0, 0, 1) represents an opaque red, while (0, 1, 0, 0.5) represents a half transparent green."
   ]
  },
  {
   "cell_type": "markdown",
   "id": "fedee51f",
   "metadata": {},
   "source": [
    "2. From the Pillow module, how do you get the RGBA value of any images?"
   ]
  },
  {
   "cell_type": "markdown",
   "id": "e0acb990",
   "metadata": {},
   "source": [
    "Ans. \n",
    "\n",
    "ImageColor.getcolor() gives rgba value of any image."
   ]
  },
  {
   "cell_type": "markdown",
   "id": "c8356b11",
   "metadata": {},
   "source": [
    "3. What is a box tuple, and how does it work?"
   ]
  },
  {
   "cell_type": "markdown",
   "id": "eb45686f",
   "metadata": {},
   "source": [
    "Ans. \n",
    "\n",
    "Box tuple is container of tuple of four integers where x-coordinate is represented by left edge."
   ]
  },
  {
   "cell_type": "markdown",
   "id": "ccc15076",
   "metadata": {},
   "source": [
    "4. Use your image and load in notebook then, How can you find out the width and height of an\n",
    "Image object?"
   ]
  },
  {
   "cell_type": "code",
   "execution_count": 24,
   "id": "3760ac12",
   "metadata": {},
   "outputs": [
    {
     "name": "stdout",
     "output_type": "stream",
     "text": [
      "3840\n",
      "2160\n"
     ]
    }
   ],
   "source": [
    "from PIL import Image\n",
    "#Open image using Image module\n",
    "im = Image.open(\"/Users/avinashkumar/Downloads/937205.jpeg\")\n",
    "print(im.width)\n",
    "print(im.height)\n",
    "\n"
   ]
  },
  {
   "cell_type": "markdown",
   "id": "8013566f",
   "metadata": {},
   "source": [
    "5. What method would you call to get Image object for a 100×100 image, excluding the lower-left\n",
    "quarter of it?"
   ]
  },
  {
   "cell_type": "markdown",
   "id": "9666190a",
   "metadata": {},
   "source": [
    "Ans. imageObj.crop((0, 50, 50, 50))"
   ]
  },
  {
   "cell_type": "markdown",
   "id": "0ccb210c",
   "metadata": {},
   "source": [
    "6. After making changes to an Image object, how could you save it as an image file?"
   ]
  },
  {
   "cell_type": "markdown",
   "id": "6a6d2960",
   "metadata": {},
   "source": [
    "Ans. imageObj.save('new_name.jpg')"
   ]
  },
  {
   "cell_type": "markdown",
   "id": "08d7c624",
   "metadata": {},
   "source": [
    "7. What module contains Pillow’s shape-drawing code?"
   ]
  },
  {
   "cell_type": "markdown",
   "id": "aeca6f35",
   "metadata": {},
   "source": [
    "Ans. ImageDraw module"
   ]
  },
  {
   "cell_type": "markdown",
   "id": "aed61ce8",
   "metadata": {},
   "source": [
    "8. Image objects do not have drawing methods. What kind of object does? How do you get this kind\n",
    "of object?"
   ]
  },
  {
   "cell_type": "markdown",
   "id": "71bc32b4",
   "metadata": {},
   "source": [
    "Ans. contains shape drawing methods like line(), point(), rectangle() we can call they by using ImageDraw.Draw() function."
   ]
  },
  {
   "cell_type": "code",
   "execution_count": null,
   "id": "536f8c2e",
   "metadata": {},
   "outputs": [],
   "source": []
  }
 ],
 "metadata": {
  "kernelspec": {
   "display_name": "Python 3 (ipykernel)",
   "language": "python",
   "name": "python3"
  },
  "language_info": {
   "codemirror_mode": {
    "name": "ipython",
    "version": 3
   },
   "file_extension": ".py",
   "mimetype": "text/x-python",
   "name": "python",
   "nbconvert_exporter": "python",
   "pygments_lexer": "ipython3",
   "version": "3.9.12"
  }
 },
 "nbformat": 4,
 "nbformat_minor": 5
}
