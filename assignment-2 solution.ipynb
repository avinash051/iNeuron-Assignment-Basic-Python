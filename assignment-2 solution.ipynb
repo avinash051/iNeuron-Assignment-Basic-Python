{
 "cells": [
  {
   "cell_type": "markdown",
   "id": "66b373f4",
   "metadata": {},
   "source": [
    "1.What are the two values of the Boolean data type? How do you write them?"
   ]
  },
  {
   "cell_type": "markdown",
   "id": "934a1cd0",
   "metadata": {},
   "source": [
    "Ans. Boolean Data Types -  True means 1 \n",
    "                      False means 0\n",
    "   \n",
    "    b = True + False \n",
    "    print(b) // o/p - 1\n",
    "     \n",
    "        \n",
    "    c = True + True\n",
    "    print(c) // o/p - 2\n",
    "    \n",
    "    note - whenever arithmatic operation performed with \"True\" and \"False\" then True will be consider as 1 and\n",
    "    False will be consider as o."
   ]
  },
  {
   "cell_type": "markdown",
   "id": "a8877a10",
   "metadata": {},
   "source": [
    "2. What are the three different types of Boolean operators?"
   ]
  },
  {
   "cell_type": "markdown",
   "id": "8199ef5d",
   "metadata": {},
   "source": [
    "Ans. AND, OR and NOT"
   ]
  },
  {
   "cell_type": "markdown",
   "id": "89ba57b3",
   "metadata": {},
   "source": [
    "3. Make a list of each Boolean operator's truth tables (i.e. every possible combination of Boolean values for the operator and what it evaluate )."
   ]
  },
  {
   "cell_type": "markdown",
   "id": "87259890",
   "metadata": {},
   "source": [
    "Ans. \n",
    "\n",
    "True + True   o/p  2\n",
    "\n",
    "True + False  o/p 1\n",
    "\n",
    "False + False o/p 0\n",
    "\n",
    "False * False  o/p 0\n",
    "\n",
    "False * True   o/p  0\n",
    "\n",
    "False/True     o/p 0.0\n",
    "\n",
    "False -True    o/p  -1\n",
    "\n",
    "True - True    o/p 0\n",
    "\n",
    "False or False  o/p False\n",
    "\n",
    "False or True  o/p True\n",
    "\n",
    "True and False o/p False\n",
    "\n",
    "False != True o/p True\n",
    "\n",
    "False != False o/p False\n",
    "\n",
    "True != False o/p True\n"
   ]
  },
  {
   "cell_type": "markdown",
   "id": "f9f36394",
   "metadata": {},
   "source": [
    "4. What are the values of the following expressions?\n",
    "\n",
    "     (5 > 4) and (3 == 5) ,\n",
    "     \n",
    "      not (5 > 4) ,\n",
    "      \n",
    "     (5 > 4) or (3 == 5) ,\n",
    "     \n",
    "      not ((5 > 4) or (3 == 5)) ,\n",
    "      \n",
    "     (True and True) and (True == False) ,\n",
    "     \n",
    "      (not False) or (not True)"
   ]
  },
  {
   "cell_type": "markdown",
   "id": "3b7b82e4",
   "metadata": {},
   "source": [
    "Ans. \n",
    "\n",
    "(5 > 4) and (3 == 5)  o/p - False\n",
    "\n",
    "not (5 > 4) o/p - False\n",
    "\n",
    "(5 > 4) or (3 == 5)  o/p - True\n",
    "\n",
    "not ((5 > 4) or (3 == 5))  o/p - False\n",
    "\n",
    "(True and True) and (True == False) o/p - False\n",
    "\n",
    "(not False) or (not True) o/p - True\n"
   ]
  },
  {
   "cell_type": "markdown",
   "id": "bcf44904",
   "metadata": {},
   "source": [
    "5. What are the six comparison operators?"
   ]
  },
  {
   "cell_type": "markdown",
   "id": "691e0788",
   "metadata": {},
   "source": [
    "Ans. \n",
    "\n",
    "<,>,==,>=,<=,!="
   ]
  },
  {
   "cell_type": "markdown",
   "id": "85514736",
   "metadata": {},
   "source": [
    "6. How do you tell the difference between the equal to and assignment operators?Describe a condition and when you would use one."
   ]
  },
  {
   "cell_type": "markdown",
   "id": "c8c13855",
   "metadata": {},
   "source": [
    "Ans. \n",
    "\n",
    "assign operator (here we have asign a with 45)\n",
    "a = 45\n",
    "\n",
    "equal to operator (here we have checking where a = 45 or not)\n",
    "a==45 , a=!5\n"
   ]
  },
  {
   "cell_type": "markdown",
   "id": "fd9eeaab",
   "metadata": {},
   "source": [
    "7. Identify the three blocks in this code:\n",
    "\n",
    "spam = 0\n",
    "\n",
    "if spam == 10:\n",
    "\n",
    "print('eggs')\n",
    "\n",
    "if spam > 5:\n",
    "\n",
    "print('bacon')\n",
    "\n",
    "else:\n",
    "print('ham')\n",
    "\n",
    "print('spam')\n",
    "\n",
    "print('spam')\n"
   ]
  },
  {
   "cell_type": "markdown",
   "id": "1260402f",
   "metadata": {},
   "source": [
    "Ans.  \n",
    "\n",
    "In first block condion check operator is there , which will return false and it will goes to else block. But\n",
    "here we don't have else part so it will print nothing. \n",
    "\n",
    "In second block condition is like spam > 5 , this is also false statment as spam = 0 what we have initilise, it will \n",
    "move to else part so it will print ham\n",
    "\n",
    "In other block we have just statment print so it will print spam "
   ]
  },
  {
   "cell_type": "markdown",
   "id": "101d0d81",
   "metadata": {},
   "source": [
    "8. Write code that prints Hello if 1 is stored in spam, prints Howdy if 2 is stored in spam, and prints Greetings! if anything else is stored in spam."
   ]
  },
  {
   "cell_type": "markdown",
   "id": "057f1655",
   "metadata": {},
   "source": [
    "Ans. \n",
    "\n",
    "if spam == 1 :\n",
    "    print(\"hello\")\n",
    "    \n",
    "if spam == 2 :\n",
    "         print(\"Howdy\")\n",
    "else:\n",
    "    print(\"greeting\")"
   ]
  },
  {
   "cell_type": "markdown",
   "id": "3d7af198",
   "metadata": {},
   "source": [
    "9.If your programme is stuck in an endless loop, what keys you’ll press?"
   ]
  },
  {
   "cell_type": "markdown",
   "id": "8647770d",
   "metadata": {},
   "source": [
    "Ans. \n",
    "\n",
    "CTRL + C"
   ]
  },
  {
   "cell_type": "markdown",
   "id": "386794cf",
   "metadata": {},
   "source": [
    "10. How can you tell the difference between break and continue?"
   ]
  },
  {
   "cell_type": "markdown",
   "id": "abf3ddb9",
   "metadata": {},
   "source": [
    "break terminates the execution of the current loop and passes the control over the next loop where as  \n",
    "continue keyword is encountered, it skips the current iteration and executes the very next iteration in the loop"
   ]
  }
 ],
 "metadata": {
  "kernelspec": {
   "display_name": "Python 3 (ipykernel)",
   "language": "python",
   "name": "python3"
  },
  "language_info": {
   "codemirror_mode": {
    "name": "ipython",
    "version": 3
   },
   "file_extension": ".py",
   "mimetype": "text/x-python",
   "name": "python",
   "nbconvert_exporter": "python",
   "pygments_lexer": "ipython3",
   "version": "3.9.7"
  }
 },
 "nbformat": 4,
 "nbformat_minor": 5
}
