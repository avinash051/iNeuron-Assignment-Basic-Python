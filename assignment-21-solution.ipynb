{
 "cells": [
  {
   "cell_type": "markdown",
   "id": "2588a5a7",
   "metadata": {},
   "source": [
    "1. Add the current date to the text file today.txt as a string."
   ]
  },
  {
   "cell_type": "code",
   "execution_count": 1,
   "id": "a019b5da",
   "metadata": {},
   "outputs": [
    {
     "name": "stdout",
     "output_type": "stream",
     "text": [
      "15-09-2022\n"
     ]
    }
   ],
   "source": [
    "import datetime\n",
    "# Code to Add current date to the today.txt file\n",
    "file = open('today.txt','w')\n",
    "file.write(datetime.datetime.now().strftime(\"%d-%m-%Y\"))\n",
    "file.close()\n",
    "# Code to Read current date from today.txt file\n",
    "file = open('today.txt','r')\n",
    "print(file.read())\n",
    "file.close()"
   ]
  },
  {
   "cell_type": "markdown",
   "id": "9d90c2f7",
   "metadata": {},
   "source": [
    "2. Read the text file today.txt into the string today_string"
   ]
  },
  {
   "cell_type": "code",
   "execution_count": 2,
   "id": "9aff50bb",
   "metadata": {},
   "outputs": [
    {
     "name": "stdout",
     "output_type": "stream",
     "text": [
      "15-09-2022\n"
     ]
    }
   ],
   "source": [
    "file = open('today.txt','r')\n",
    "today_string = file.read()\n",
    "print(today_string)"
   ]
  },
  {
   "cell_type": "markdown",
   "id": "c74bd0fc",
   "metadata": {},
   "source": [
    "3. Parse the date from today_string."
   ]
  },
  {
   "cell_type": "code",
   "execution_count": 3,
   "id": "3a050f3f",
   "metadata": {},
   "outputs": [
    {
     "name": "stdout",
     "output_type": "stream",
     "text": [
      "2022-09-15 00:00:00\n"
     ]
    }
   ],
   "source": [
    "from datetime import datetime\n",
    "parsed_data = datetime.strptime(today_string, '%d-%m-%Y')\n",
    "print(parsed_data)"
   ]
  },
  {
   "cell_type": "markdown",
   "id": "e779daa0",
   "metadata": {},
   "source": [
    "4. List the files in your current directory"
   ]
  },
  {
   "cell_type": "code",
   "execution_count": 4,
   "id": "e17c6c44",
   "metadata": {},
   "outputs": [
    {
     "name": "stdout",
     "output_type": "stream",
     "text": [
      "assignment -3 solution.ipynb\n",
      ".DS_Store\n",
      "today.txt\n",
      "assignment-20-solution.ipynb\n",
      "assignment-21-solution.ipynb\n",
      "assignment-4- solution.ipynb\n",
      "assignment-12-solution.ipynb\n",
      "assignment-7-solution.ipynb\n",
      "assignment-8-solution.ipynb\n",
      "assignment-15-solution.ipynb\n",
      "books.csv\n",
      "assignment-9-solution.ipynb\n",
      "assignment-2 solution.ipynb\n",
      "assignment-14-solution.ipynb\n",
      "assignment-6-solution.ipynb\n",
      "assignment-13-solution.ipynb\n",
      "test.txt\n",
      "assignment-19-solution.ipynb\n",
      "assignment-11-solution.ipynb\n",
      "assignment-16-solution.ipynb\n",
      "books.db\n",
      "assignment-17-solution.ipynb\n",
      "assignment-1 solution.ipynb\n",
      "application_log.txt\n",
      "assignment-10-solution.ipynb\n",
      "assignment-5-solution.ipynb\n",
      "assignment-18-solution.ipynb\n",
      "assignment-14-solution-checkpoint.ipynb\n",
      "assignment-9-solution-checkpoint.ipynb\n",
      "assignment-13-solution-checkpoint.ipynb\n",
      "assignment-6-solution-checkpoint.ipynb\n",
      "assignment-20-solution-checkpoint.ipynb\n",
      "assignment-16-solution-checkpoint.ipynb\n",
      "assignment-19-solution-checkpoint.ipynb\n",
      "assignment-1 solution-checkpoint.ipynb\n",
      "assignment-11-solution-checkpoint.ipynb\n",
      "assignment-10-solution-checkpoint.ipynb\n",
      "assignment-5-solution-checkpoint.ipynb\n",
      "assignment-18-solution-checkpoint.ipynb\n",
      "assignment-17-solution-checkpoint.ipynb\n",
      "assignment-4- solution-checkpoint.ipynb\n",
      "assignment-21-solution-checkpoint.ipynb\n",
      "assignment-12-solution-checkpoint.ipynb\n",
      "assignment-7-solution-checkpoint.ipynb\n",
      "assignment-2 solution-checkpoint.ipynb\n",
      "assignment-8-solution-checkpoint.ipynb\n",
      "assignment -3 solution-checkpoint.ipynb\n",
      "assignment-15-solution-checkpoint.ipynb\n"
     ]
    }
   ],
   "source": [
    "import os\n",
    "for folders, subfolders, files in os.walk(os.getcwd()):\n",
    "    for file in files:\n",
    "        print(file)"
   ]
  },
  {
   "cell_type": "markdown",
   "id": "2fdb8ad4",
   "metadata": {},
   "source": [
    "5. Create a list of all of the files in your parent directory (minimum five files should be available)."
   ]
  },
  {
   "cell_type": "code",
   "execution_count": 5,
   "id": "abf1311f",
   "metadata": {},
   "outputs": [
    {
     "data": {
      "text/plain": [
       "['assignment -3 solution.ipynb',\n",
       " '.DS_Store',\n",
       " 'today.txt',\n",
       " 'assignment-20-solution.ipynb',\n",
       " 'assignment-21-solution.ipynb',\n",
       " 'assignment-4- solution.ipynb',\n",
       " 'assignment-12-solution.ipynb',\n",
       " 'assignment-7-solution.ipynb',\n",
       " 'assignment-8-solution.ipynb',\n",
       " 'assignment-15-solution.ipynb',\n",
       " 'books.csv',\n",
       " 'assignment-9-solution.ipynb',\n",
       " 'assignment-2 solution.ipynb',\n",
       " 'assignment-14-solution.ipynb',\n",
       " 'assignment-6-solution.ipynb',\n",
       " 'assignment-13-solution.ipynb',\n",
       " 'test.txt',\n",
       " '.ipynb_checkpoints',\n",
       " 'assignment-19-solution.ipynb',\n",
       " 'assignment-11-solution.ipynb',\n",
       " 'assignment-16-solution.ipynb',\n",
       " 'books.db',\n",
       " 'assignment-17-solution.ipynb',\n",
       " 'assignment-1 solution.ipynb',\n",
       " 'application_log.txt',\n",
       " 'assignment-10-solution.ipynb',\n",
       " 'assignment-5-solution.ipynb',\n",
       " 'assignment-18-solution.ipynb']"
      ]
     },
     "execution_count": 5,
     "metadata": {},
     "output_type": "execute_result"
    }
   ],
   "source": [
    "import os \n",
    "os.listdir()"
   ]
  },
  {
   "cell_type": "markdown",
   "id": "5fe15cd1",
   "metadata": {},
   "source": [
    "6. Use multiprocessing to create three separate processes. Make each one wait a random number of\n",
    "seconds between one and five, print the current time, and then exit."
   ]
  },
  {
   "cell_type": "code",
   "execution_count": 6,
   "id": "d0706ba3",
   "metadata": {},
   "outputs": [
    {
     "name": "stderr",
     "output_type": "stream",
     "text": [
      "Traceback (most recent call last):\n",
      "Traceback (most recent call last):\n",
      "Traceback (most recent call last):\n",
      "  File \"<string>\", line 1, in <module>\n",
      "  File \"<string>\", line 1, in <module>\n",
      "  File \"<string>\", line 1, in <module>\n",
      "  File \"/Users/avinashkumar/opt/anaconda3/lib/python3.9/multiprocessing/spawn.py\", line 116, in spawn_main\n",
      "  File \"/Users/avinashkumar/opt/anaconda3/lib/python3.9/multiprocessing/spawn.py\", line 116, in spawn_main\n",
      "  File \"/Users/avinashkumar/opt/anaconda3/lib/python3.9/multiprocessing/spawn.py\", line 116, in spawn_main\n",
      "    exitcode = _main(fd, parent_sentinel)\n",
      "    exitcode = _main(fd, parent_sentinel)\n",
      "    exitcode = _main(fd, parent_sentinel)\n",
      "  File \"/Users/avinashkumar/opt/anaconda3/lib/python3.9/multiprocessing/spawn.py\", line 126, in _main\n",
      "  File \"/Users/avinashkumar/opt/anaconda3/lib/python3.9/multiprocessing/spawn.py\", line 126, in _main\n",
      "  File \"/Users/avinashkumar/opt/anaconda3/lib/python3.9/multiprocessing/spawn.py\", line 126, in _main\n",
      "    self = reduction.pickle.load(from_parent)\n",
      "    self = reduction.pickle.load(from_parent)\n",
      "AttributeError: Can't get attribute 'procOne' on <module '__main__' (built-in)>\n",
      "AttributeError: Can't get attribute 'procThree' on <module '__main__' (built-in)>\n",
      "    self = reduction.pickle.load(from_parent)\n",
      "AttributeError: Can't get attribute 'procTwo' on <module '__main__' (built-in)>\n"
     ]
    }
   ],
   "source": [
    "import multiprocessing\n",
    "import time \n",
    "import random\n",
    "import datetime\n",
    "\n",
    "def procOne():\n",
    "    print(f'Proc_one_Starttime -> {datetime.datetime.now()}')\n",
    "    time.sleep(random.randint(1,5))\n",
    "    print(f'Proc_one_Endtime -> {datetime.datetime.now()}')\n",
    "    \n",
    "def procTwo():\n",
    "    print(f'Proc_two_Starttime -> {datetime.datetime.now()}')\n",
    "    time.sleep(random.randint(1,5))\n",
    "    print(f'Proc_two_Endtime -> {datetime.datetime.now()}')\n",
    "\n",
    "def procThree():\n",
    "    print(f'Proc_two_Starttime -> {datetime.datetime.now()}')\n",
    "    time.sleep(random.randint(1,5))\n",
    "    print(f'Proc_two_Endtime -> {datetime.datetime.now()}')\n",
    "    \n",
    "if __name__ == \"__main__\":    \n",
    "    p1 = multiprocessing.Process(target=procOne)\n",
    "    p2 = multiprocessing.Process(target=procTwo)\n",
    "    p3 = multiprocessing.Process(target=procThree)\n",
    "\n",
    "    p1.start()\n",
    "    p2.start()\n",
    "    p3.start()\n",
    "\n",
    "    p1.join()\n",
    "    p2.join()\n",
    "    p3.join()"
   ]
  },
  {
   "cell_type": "markdown",
   "id": "b4a21d72",
   "metadata": {},
   "source": [
    "7. Create a date object of your day of birth."
   ]
  },
  {
   "cell_type": "code",
   "execution_count": 7,
   "id": "41f69b06",
   "metadata": {},
   "outputs": [
    {
     "name": "stdout",
     "output_type": "stream",
     "text": [
      "1994-10-10 00:00:00 <class 'datetime.datetime'>\n"
     ]
    }
   ],
   "source": [
    "from datetime import datetime\n",
    "my_dob = datetime.strptime('10/10/1994','%d/%m/%Y')\n",
    "print(my_dob, type(my_dob))"
   ]
  },
  {
   "cell_type": "markdown",
   "id": "57659995",
   "metadata": {},
   "source": [
    "8. What day of the week was your day of birth?"
   ]
  },
  {
   "cell_type": "code",
   "execution_count": 9,
   "id": "44873fb3",
   "metadata": {},
   "outputs": [
    {
     "data": {
      "text/plain": [
       "'Monday'"
      ]
     },
     "execution_count": 9,
     "metadata": {},
     "output_type": "execute_result"
    }
   ],
   "source": [
    "from datetime import datetime\n",
    "my_dob = datetime(1994,10,10)\n",
    "my_dob.strftime(\"%A\")"
   ]
  },
  {
   "cell_type": "markdown",
   "id": "769097ef",
   "metadata": {},
   "source": [
    "9. When will you be (or when were you) 10,000 days old?"
   ]
  },
  {
   "cell_type": "code",
   "execution_count": 11,
   "id": "ff63080a",
   "metadata": {},
   "outputs": [
    {
     "data": {
      "text/plain": [
       "datetime.datetime(1967, 5, 25, 0, 0)"
      ]
     },
     "execution_count": 11,
     "metadata": {},
     "output_type": "execute_result"
    }
   ],
   "source": [
    "from datetime import datetime, timedelta\n",
    "my_dob = datetime.strptime(\"10/10/1994\",'%d/%m/%Y')\n",
    "future_date = my_dob-timedelta(10000)\n",
    "future_date"
   ]
  },
  {
   "cell_type": "code",
   "execution_count": null,
   "id": "0b332bb9",
   "metadata": {},
   "outputs": [],
   "source": []
  }
 ],
 "metadata": {
  "kernelspec": {
   "display_name": "Python 3 (ipykernel)",
   "language": "python",
   "name": "python3"
  },
  "language_info": {
   "codemirror_mode": {
    "name": "ipython",
    "version": 3
   },
   "file_extension": ".py",
   "mimetype": "text/x-python",
   "name": "python",
   "nbconvert_exporter": "python",
   "pygments_lexer": "ipython3",
   "version": "3.9.12"
  }
 },
 "nbformat": 4,
 "nbformat_minor": 5
}
