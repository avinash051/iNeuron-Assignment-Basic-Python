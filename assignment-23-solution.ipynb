{
 "cells": [
  {
   "cell_type": "markdown",
   "id": "3e8909f3",
   "metadata": {},
   "source": [
    "1. What is the result of the code, and why?\n",
    "&gt;&gt;&gt; \n",
    "\n",
    "def func(a, b=6, c=8):\n",
    "\n",
    "print(a, b, c)\n",
    "\n",
    "&gt;&gt;&gt; func(1, 2)"
   ]
  },
  {
   "cell_type": "code",
   "execution_count": 1,
   "id": "516b4ffc",
   "metadata": {},
   "outputs": [
    {
     "name": "stdout",
     "output_type": "stream",
     "text": [
      "1 2 8\n"
     ]
    }
   ],
   "source": [
    "def func(a,b=6,c=8):\n",
    "    print(a,b,c)\n",
    "func(1,2)    "
   ]
  },
  {
   "cell_type": "markdown",
   "id": "b3a27487",
   "metadata": {},
   "source": [
    "Ans.  Here we have 3 args a,b,c where b and c initialise with 6 and 8. we printing a, b, c. While calling func we have pass 1 ,2 , so 1 initaliseed with a, b with 2 and c have it's default value of 8."
   ]
  },
  {
   "cell_type": "markdown",
   "id": "b9a7034a",
   "metadata": {},
   "source": [
    "2. What is the result of this code, and why?\n",
    "&gt;&gt;&gt; \n",
    "\n",
    "def func(a, b, c=5):\n",
    "    \n",
    "    print(a, b, c)\n",
    "    \n",
    "&gt;&gt;&gt; \n",
    "\n",
    "func(1, c=3, b=2)"
   ]
  },
  {
   "cell_type": "code",
   "execution_count": 4,
   "id": "246f08b4",
   "metadata": {},
   "outputs": [
    {
     "name": "stdout",
     "output_type": "stream",
     "text": [
      "1 2 3\n"
     ]
    }
   ],
   "source": [
    "def func(a,b,c=5):\n",
    "    print(a,b,c)\n",
    "func(1,c=3,b=2)"
   ]
  },
  {
   "cell_type": "markdown",
   "id": "ce2607f7",
   "metadata": {},
   "source": [
    "Ans. The result of the above code is 1 2 3. it is because the function will use default values only when a value for a argument is not provided and if argument name is mentioned while doing a function call, the order of arguments is also ignored by the python interpreter"
   ]
  },
  {
   "cell_type": "markdown",
   "id": "e722aaca",
   "metadata": {},
   "source": [
    "3. How about this code: what is its result, and why?\n",
    "&gt;&gt;&gt;\n",
    "\n",
    "def func(a, *pargs):\n",
    "    \n",
    "    print(a, pargs)\n",
    "\n",
    "&gt;&gt;&gt; \n",
    "func(1, 2, 3)"
   ]
  },
  {
   "cell_type": "code",
   "execution_count": 8,
   "id": "633a328c",
   "metadata": {},
   "outputs": [
    {
     "name": "stdout",
     "output_type": "stream",
     "text": [
      "1 (2, 3)\n"
     ]
    }
   ],
   "source": [
    "def func(a, *pargs):\n",
    "    print(a,pargs)\n",
    "func(1,2,3)"
   ]
  },
  {
   "cell_type": "markdown",
   "id": "da769d79",
   "metadata": {},
   "source": [
    "Ans. Ans: The result of the code is 1 (2,3). *pargs stands for variable length arguments. this format is used when we are not sure about the no of arguments to be passed to a function. all the values under this argument will be stored in a tuple."
   ]
  },
  {
   "cell_type": "markdown",
   "id": "afb9faf6",
   "metadata": {},
   "source": [
    "4. What does this code print, and why?\n",
    "\n",
    "&gt;&gt;&gt; \n",
    "\n",
    "def func(a, **kargs):\n",
    "    \n",
    "    print(a, kargs)\n",
    "&gt;&gt;&gt; \n",
    "\n",
    "func(a=1, c=3, b=2)"
   ]
  },
  {
   "cell_type": "code",
   "execution_count": 9,
   "id": "8852b3a8",
   "metadata": {},
   "outputs": [
    {
     "name": "stdout",
     "output_type": "stream",
     "text": [
      "1 {'c': 3, 'b': 2}\n"
     ]
    }
   ],
   "source": [
    "def func(a,**kargs):\n",
    "    print(a,kargs)\n",
    "func(a=1,c=3,b=2)"
   ]
  },
  {
   "cell_type": "markdown",
   "id": "e480ae32",
   "metadata": {},
   "source": [
    "Ans.  The result of the above code is 1 {'c': 3, 'b': 2}. **args stands for variable length keyword arguments. this format is used when we want pass key value pairs as input to a function. All these key value pairs will be stored in a dictionary"
   ]
  },
  {
   "cell_type": "markdown",
   "id": "2189e175",
   "metadata": {},
   "source": [
    "5. What gets printed by this, and explain?\n",
    "\n",
    "&gt;&gt;&gt; \n",
    "def func(a, b, c=8, d=5): \n",
    "    \n",
    "    print(a, b, c, d)\n",
    "\n",
    "&gt;&gt;&gt; \n",
    "\n",
    "func(1, *(5, 6))"
   ]
  },
  {
   "cell_type": "code",
   "execution_count": 15,
   "id": "c4dce669",
   "metadata": {},
   "outputs": [
    {
     "name": "stdout",
     "output_type": "stream",
     "text": [
      "1 5 6 5\n"
     ]
    }
   ],
   "source": [
    "def func(a,b,c=8,d=5):\n",
    "    print(a,b,c,d)\n",
    "func(1,*(5,6,))"
   ]
  },
  {
   "cell_type": "markdown",
   "id": "84bdad47",
   "metadata": {},
   "source": [
    "Ans. The output of the above is 1 5 6 5. This reason for this function not throwing an error is because, this function expects 4 arguments. the value for a is provided explicitly whereas for arguments b and c, the function will expand the *(5,6) and consider the value of b as 5 and value of c as 6. since the default value of d is provided in function declaration d value will be 5. However it is recommended to use the feature of positional arguments at the end"
   ]
  },
  {
   "cell_type": "markdown",
   "id": "821521de",
   "metadata": {},
   "source": [
    "6. what is the result of this, and explain?\n",
    "\n",
    "&gt;&gt;&gt; \n",
    "\n",
    "def func(a, b, c): a = 2;\n",
    "    \n",
    "    b[0] = &#39;x&#39;; c[&#39;a&#39;] = &#39;y&#39;\n",
    "\n",
    "&gt;&gt;&gt;\n",
    "\n",
    "l=1; \n",
    "\n",
    "m=[1]; \n",
    "\n",
    "n={&#39;a&#39;:0}\n",
    "\n",
    "&gt;&gt;&gt; \n",
    "\n",
    "func(l, m, n)\n",
    "\n",
    "&gt;&gt;&gt; l, m, n"
   ]
  },
  {
   "cell_type": "code",
   "execution_count": 16,
   "id": "aa5e081b",
   "metadata": {},
   "outputs": [
    {
     "data": {
      "text/plain": [
       "(1, ['x'], {'a': 'y'})"
      ]
     },
     "execution_count": 16,
     "metadata": {},
     "output_type": "execute_result"
    }
   ],
   "source": [
    "def func(a, b, c): a = 2; b[0] = 'x'; c['a'] = 'y'\n",
    "l=1; m=[1]; n={'a':0}\n",
    "func(l, m, n)\n",
    "l,m,n"
   ]
  },
  {
   "cell_type": "markdown",
   "id": "1e1af3f7",
   "metadata": {},
   "source": [
    "Ans. The output of above code is 1, ['x'], {'a': 'y'}.\n",
    "\n",
    "Eventhough Python gives importance to indentation. its provides a facility to declare an entire function in one single line. where statements in a function body are sepereated by ;\n",
    "When l,m,n are provided as inputs to the function. its modifies the values of l,m,n and sets the value of l=2 ,m=['x'] and n={'a':'y'}"
   ]
  },
  {
   "cell_type": "code",
   "execution_count": null,
   "id": "6efb34ad",
   "metadata": {},
   "outputs": [],
   "source": []
  }
 ],
 "metadata": {
  "kernelspec": {
   "display_name": "Python 3 (ipykernel)",
   "language": "python",
   "name": "python3"
  },
  "language_info": {
   "codemirror_mode": {
    "name": "ipython",
    "version": 3
   },
   "file_extension": ".py",
   "mimetype": "text/x-python",
   "name": "python",
   "nbconvert_exporter": "python",
   "pygments_lexer": "ipython3",
   "version": "3.9.12"
  }
 },
 "nbformat": 4,
 "nbformat_minor": 5
}
