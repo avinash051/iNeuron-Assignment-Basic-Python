{
 "cells": [
  {
   "cell_type": "markdown",
   "id": "c64d9311",
   "metadata": {},
   "source": [
    "1. What exactly is []?"
   ]
  },
  {
   "cell_type": "markdown",
   "id": "9b3ce1e5",
   "metadata": {},
   "source": [
    "Ans.  empty list "
   ]
  },
  {
   "cell_type": "markdown",
   "id": "3eb7c563",
   "metadata": {},
   "source": [
    "2. In a list of values stored in a variable called spam, how would you assign the value 'hello' as the third value? (Assume [2, 4, 6, 8, 10] are in spam.)\n",
    "\n",
    "  "
   ]
  },
  {
   "cell_type": "markdown",
   "id": "d47f3436",
   "metadata": {},
   "source": [
    "spam = [2,4,6,8,10]\n",
    "spam[2]= \"hello\"\n",
    "spam\n",
    "\n",
    "O/p - [2, 4, 'hello', 8, 10]"
   ]
  },
  {
   "cell_type": "markdown",
   "id": "27f6433e",
   "metadata": {},
   "source": [
    "### Let's pretend the spam includes the list ['a', 'b', 'c', 'd'] for the next three queries.\n",
    "\n",
    "3. What is the value of spam[int(int('3' * 2) / 11)]?"
   ]
  },
  {
   "cell_type": "markdown",
   "id": "044e46ca",
   "metadata": {},
   "source": [
    "Ans.\n",
    "\n",
    "spam = ['a', 'b', 'c', 'd']\n",
    "spam[int(int('3' * 2) / 11)]\n",
    "\n",
    "Ans . 'd', beacuse of typecasting\n"
   ]
  },
  {
   "cell_type": "markdown",
   "id": "44db8c65",
   "metadata": {},
   "source": [
    "4. What is the value of spam[-1]?"
   ]
  },
  {
   "cell_type": "markdown",
   "id": "e0d60cfa",
   "metadata": {},
   "source": [
    "Ans. 'd' spam[-1]"
   ]
  },
  {
   "cell_type": "markdown",
   "id": "0e4bbd9f",
   "metadata": {},
   "source": [
    "5. What is the value of spam[:2]?"
   ]
  },
  {
   "cell_type": "markdown",
   "id": "1cdaf585",
   "metadata": {},
   "source": [
    "Ans. \n",
    "[:2]\n",
    "['a', 'b']\n",
    "\n",
    "note - outerbond-1\n",
    "\n",
    "\n"
   ]
  },
  {
   "cell_type": "markdown",
   "id": "18d47a87",
   "metadata": {},
   "source": [
    "### Let's pretend bacon has the list [3.14, 'cat,' 11, 'cat,' True] for the next three questions."
   ]
  },
  {
   "cell_type": "markdown",
   "id": "e7393526",
   "metadata": {},
   "source": [
    "6. What is the value of bacon.index('cat')?"
   ]
  },
  {
   "cell_type": "code",
   "execution_count": 16,
   "id": "98fe6737",
   "metadata": {},
   "outputs": [
    {
     "data": {
      "text/plain": [
       "1"
      ]
     },
     "execution_count": 16,
     "metadata": {},
     "output_type": "execute_result"
    }
   ],
   "source": [
    "bacom = [3.14,'cat','11','cat', True]\n",
    "bacom.index('cat')\n"
   ]
  },
  {
   "cell_type": "markdown",
   "id": "f7491eb7",
   "metadata": {},
   "source": [
    "7. How does bacon.append(99) change the look of the list value in bacon?"
   ]
  },
  {
   "cell_type": "code",
   "execution_count": 22,
   "id": "dc84edcf",
   "metadata": {},
   "outputs": [
    {
     "data": {
      "text/plain": [
       "[3.14, 'cat', 11, 'cat', True, 99]"
      ]
     },
     "execution_count": 22,
     "metadata": {},
     "output_type": "execute_result"
    }
   ],
   "source": [
    "bacon = [3.14, 'cat', 11, 'cat', True]\n",
    "bacon.append(99) # append insert the item at the end of the list\n",
    "bacon"
   ]
  },
  {
   "cell_type": "markdown",
   "id": "e3a36c07",
   "metadata": {},
   "source": [
    "8. How does bacon.remove('cat') change the look of the list in bacon?"
   ]
  },
  {
   "cell_type": "code",
   "execution_count": 24,
   "id": "9ca7ff62",
   "metadata": {},
   "outputs": [
    {
     "data": {
      "text/plain": [
       "[3.14, '11', True]"
      ]
     },
     "execution_count": 24,
     "metadata": {},
     "output_type": "execute_result"
    }
   ],
   "source": [
    "bacom.remove('cat') #remove the element from the first occurance.\n",
    "bacom"
   ]
  },
  {
   "cell_type": "markdown",
   "id": "8a72b25f",
   "metadata": {},
   "source": [
    "9. What are the list concatenation and list replication operators?"
   ]
  },
  {
   "cell_type": "code",
   "execution_count": 35,
   "id": "dbb85162",
   "metadata": {},
   "outputs": [
    {
     "data": {
      "text/plain": [
       "[23, 34, 'avin', 1, 2, 3]"
      ]
     },
     "execution_count": 35,
     "metadata": {},
     "output_type": "execute_result"
    }
   ],
   "source": [
    "\n",
    "l1 = [23,34,\"avin\"]\n",
    "l2 = [1,2,3]\n",
    "l1+ l2 #List concatenation \n"
   ]
  },
  {
   "cell_type": "code",
   "execution_count": 36,
   "id": "560934d2",
   "metadata": {},
   "outputs": [
    {
     "data": {
      "text/plain": [
       "[23, 34, 'avin', 23, 34, 'avin']"
      ]
     },
     "execution_count": 36,
     "metadata": {},
     "output_type": "execute_result"
    }
   ],
   "source": [
    "l1*2 #list replication"
   ]
  },
  {
   "cell_type": "markdown",
   "id": "6c4bc6ec",
   "metadata": {},
   "source": [
    "10. What is difference between the list methods append() and insert()?"
   ]
  },
  {
   "cell_type": "code",
   "execution_count": 50,
   "id": "cb099dbe",
   "metadata": {},
   "outputs": [
    {
     "data": {
      "text/plain": [
       "[23, 10, 12, 23, 'avinash']"
      ]
     },
     "execution_count": 50,
     "metadata": {},
     "output_type": "execute_result"
    }
   ],
   "source": [
    "#append() insert the element at the end\n",
    "a = [23,10,12]\n",
    "\n",
    "a.append(23)\n",
    "a.append(\"avinash\")\n",
    "a"
   ]
  },
  {
   "cell_type": "code",
   "execution_count": 51,
   "id": "96c095db",
   "metadata": {},
   "outputs": [],
   "source": [
    "a.insert(2,\"sudh\") #insert the element at given index."
   ]
  },
  {
   "cell_type": "code",
   "execution_count": 52,
   "id": "05bfd9d7",
   "metadata": {},
   "outputs": [
    {
     "data": {
      "text/plain": [
       "[23, 10, 'sudh', 12, 23, 'avinash']"
      ]
     },
     "execution_count": 52,
     "metadata": {},
     "output_type": "execute_result"
    }
   ],
   "source": [
    "a"
   ]
  },
  {
   "cell_type": "markdown",
   "id": "ced65beb",
   "metadata": {},
   "source": [
    "11. What are the two methods for removing items from a list?"
   ]
  },
  {
   "cell_type": "markdown",
   "id": "c9e63438",
   "metadata": {},
   "source": [
    "Ans.  pop(), remove()"
   ]
  },
  {
   "cell_type": "markdown",
   "id": "ab9197f4",
   "metadata": {},
   "source": [
    "12. Describe how list values and string values are identical."
   ]
  },
  {
   "cell_type": "code",
   "execution_count": 56,
   "id": "c6d555ad",
   "metadata": {},
   "outputs": [
    {
     "name": "stdout",
     "output_type": "stream",
     "text": [
      "avinashkumar\n",
      "[1, 2, 3, 4, 5, 6]\n"
     ]
    }
   ],
   "source": [
    "#List and string values are much identical in many operations.\n",
    "   \n",
    "    ## lists and strings can be passed to len()\n",
    "    ## Have indexes and slices\n",
    "    ## it can be used in for loops\n",
    "    ## it can be concatenated or replicated\n",
    "    ## used with the in and not in operators\n",
    "\n",
    "\n",
    "a = \"avinash\"\n",
    "b = \"kumar\"\n",
    "c = [1,2,3]\n",
    "d = [4,5,6]\n",
    "\n",
    "print(a+b)\n",
    "print(c+d)"
   ]
  },
  {
   "cell_type": "code",
   "execution_count": 57,
   "id": "c037bf9a",
   "metadata": {},
   "outputs": [
    {
     "data": {
      "text/plain": [
       "'i'"
      ]
     },
     "execution_count": 57,
     "metadata": {},
     "output_type": "execute_result"
    }
   ],
   "source": [
    "a[2]"
   ]
  },
  {
   "cell_type": "code",
   "execution_count": 58,
   "id": "78756ba3",
   "metadata": {},
   "outputs": [
    {
     "data": {
      "text/plain": [
       "3"
      ]
     },
     "execution_count": 58,
     "metadata": {},
     "output_type": "execute_result"
    }
   ],
   "source": [
    "c[2]"
   ]
  },
  {
   "cell_type": "code",
   "execution_count": 59,
   "id": "130e07fb",
   "metadata": {},
   "outputs": [
    {
     "name": "stdout",
     "output_type": "stream",
     "text": [
      "7\n",
      "3\n"
     ]
    }
   ],
   "source": [
    "print(len(a))\n",
    "print(len(c))"
   ]
  },
  {
   "cell_type": "code",
   "execution_count": 63,
   "id": "a9d9f076",
   "metadata": {},
   "outputs": [
    {
     "name": "stdout",
     "output_type": "stream",
     "text": [
      "a\n",
      "v\n",
      "i\n",
      "n\n",
      "a\n",
      "s\n",
      "h\n",
      "123"
     ]
    }
   ],
   "source": [
    "for i in a:\n",
    "    print(i)\n",
    "    \n",
    "for j in c:\n",
    "    print(j,end ='')"
   ]
  },
  {
   "cell_type": "code",
   "execution_count": 75,
   "id": "56ad11a2",
   "metadata": {},
   "outputs": [
    {
     "name": "stdout",
     "output_type": "stream",
     "text": [
      "avinashavinash\n",
      "[1, 2, 3, 1, 2, 3]\n",
      "avinashkumar\n",
      "[1, 2, 3, 4, 5, 6]\n",
      "True\n",
      "False\n"
     ]
    }
   ],
   "source": [
    "print(a*2)\n",
    "print(c*2)\n",
    "print(a+b)\n",
    "print(c+d)\n",
    "\n",
    "print(\"h\" in a)\n",
    "print(c in c)"
   ]
  },
  {
   "cell_type": "markdown",
   "id": "cedce178",
   "metadata": {},
   "source": [
    "13. What's the difference between tuples and lists?"
   ]
  },
  {
   "cell_type": "markdown",
   "id": "eb3d3a34",
   "metadata": {},
   "source": [
    "Ans. \n",
    "\n",
    "Tuples are immutable but list is mutable, Tuples is written as () whereas list written as []"
   ]
  },
  {
   "cell_type": "markdown",
   "id": "5d9b9c6c",
   "metadata": {},
   "source": [
    "14. How do you type a tuple value that only contains the integer 42?"
   ]
  },
  {
   "cell_type": "code",
   "execution_count": 79,
   "id": "6e700995",
   "metadata": {},
   "outputs": [
    {
     "name": "stdout",
     "output_type": "stream",
     "text": [
      "(42,)\n",
      "<class 'tuple'>\n"
     ]
    }
   ],
   "source": [
    "t = (42,)\n",
    "print(t)\n",
    "print(type(t))"
   ]
  },
  {
   "cell_type": "markdown",
   "id": "6d482280",
   "metadata": {},
   "source": [
    "15. How do you get a list value's tuple form? How do you get a tuple value's list form?"
   ]
  },
  {
   "cell_type": "code",
   "execution_count": 83,
   "id": "bb5f1179",
   "metadata": {},
   "outputs": [
    {
     "data": {
      "text/plain": [
       "(1, 2, 3)"
      ]
     },
     "execution_count": 83,
     "metadata": {},
     "output_type": "execute_result"
    }
   ],
   "source": [
    "list1 = [1,2,3]\n",
    "tuple(list1)"
   ]
  },
  {
   "cell_type": "code",
   "execution_count": 89,
   "id": "6b9b356f",
   "metadata": {},
   "outputs": [
    {
     "data": {
      "text/plain": [
       "[2, 3, 23, 23]"
      ]
     },
     "execution_count": 89,
     "metadata": {},
     "output_type": "execute_result"
    }
   ],
   "source": [
    "t = (2,3,23,23)\n",
    "list(t)"
   ]
  },
  {
   "cell_type": "markdown",
   "id": "38e7284c",
   "metadata": {},
   "source": [
    "16. Variables that \"contain\" list values are not necessarily lists themselves. Instead, what do they contain?"
   ]
  },
  {
   "cell_type": "markdown",
   "id": "502ded33",
   "metadata": {},
   "source": [
    "Ans. \n",
    "\n",
    "That contain reference to the list value"
   ]
  },
  {
   "cell_type": "markdown",
   "id": "6fec9c96",
   "metadata": {},
   "source": [
    "17. How do you distinguish between copy.copy() and copy.deepcopy()?"
   ]
  },
  {
   "cell_type": "markdown",
   "id": "cf812f8e",
   "metadata": {},
   "source": [
    "Ans. \n",
    "\n",
    "A shallow copy constructs a new compound object and then (to the extent possible) inserts references into it to the objects found in the original.\n",
    "\n",
    "\n",
    "A deep copy constructs a new compound object and then, recursively, inserts copies into it of the objects found in the original."
   ]
  },
  {
   "cell_type": "code",
   "execution_count": 111,
   "id": "c34a65a3",
   "metadata": {},
   "outputs": [],
   "source": [
    "\n",
    "  \n",
    "# initializing list 1 \n",
    "list1 = [1, 2, [3,5], 4]\n",
    "  \n",
    "# using copy for shallow copy  \n",
    "\n",
    "list2 = copy.copy(list1) \n",
    "  \n",
    "# using deepcopy for deepcopy  \n",
    "list3 = copy.deepcopy(list1)"
   ]
  },
  {
   "cell_type": "code",
   "execution_count": 112,
   "id": "f30fb092",
   "metadata": {},
   "outputs": [
    {
     "data": {
      "text/plain": [
       "[1, 2, [3, 5], 4]"
      ]
     },
     "execution_count": 112,
     "metadata": {},
     "output_type": "execute_result"
    }
   ],
   "source": [
    "list2"
   ]
  },
  {
   "cell_type": "code",
   "execution_count": 113,
   "id": "c8285331",
   "metadata": {},
   "outputs": [
    {
     "data": {
      "text/plain": [
       "[1, 2, [3, 5], 4]"
      ]
     },
     "execution_count": 113,
     "metadata": {},
     "output_type": "execute_result"
    }
   ],
   "source": [
    "list3"
   ]
  }
 ],
 "metadata": {
  "kernelspec": {
   "display_name": "Python 3 (ipykernel)",
   "language": "python",
   "name": "python3"
  },
  "language_info": {
   "codemirror_mode": {
    "name": "ipython",
    "version": 3
   },
   "file_extension": ".py",
   "mimetype": "text/x-python",
   "name": "python",
   "nbconvert_exporter": "python",
   "pygments_lexer": "ipython3",
   "version": "3.9.7"
  }
 },
 "nbformat": 4,
 "nbformat_minor": 5
}
