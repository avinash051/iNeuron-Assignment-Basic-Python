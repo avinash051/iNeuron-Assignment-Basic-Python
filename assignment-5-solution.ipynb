{
 "cells": [
  {
   "cell_type": "markdown",
   "id": "bd2faaae",
   "metadata": {},
   "source": [
    "1. What does an empty dictionary's code look like?"
   ]
  },
  {
   "cell_type": "code",
   "execution_count": 3,
   "id": "c3342329",
   "metadata": {},
   "outputs": [],
   "source": [
    " \n",
    "a = {}\n",
    "b = dict()\n"
   ]
  },
  {
   "cell_type": "markdown",
   "id": "23c4f914",
   "metadata": {},
   "source": [
    "2. What is the value of a dictionary value with the key 'foo' and the value 42?"
   ]
  },
  {
   "cell_type": "code",
   "execution_count": 11,
   "id": "b00f7cd3",
   "metadata": {},
   "outputs": [
    {
     "data": {
      "text/plain": [
       "dict_values([42])"
      ]
     },
     "execution_count": 11,
     "metadata": {},
     "output_type": "execute_result"
    }
   ],
   "source": [
    "dict ={\"foo\" : 42}\n",
    "dict.values()"
   ]
  },
  {
   "cell_type": "markdown",
   "id": "689df803",
   "metadata": {},
   "source": [
    "3. What is the most significant distinction between a dictionary and a list?"
   ]
  },
  {
   "cell_type": "markdown",
   "id": "4815e082",
   "metadata": {},
   "source": [
    "Dictionaries store the data in the form of key and value pairs using the hashtable structure. It is also mutable \n",
    "but we can not change the key name. Dictionaries are used when you wish to build the map objects\n",
    "List also use to store the data and it is mutable. Lists are highly useful for array operations.\n",
    "\n",
    "ex - \n",
    "\n",
    "d = {\n",
    "  \"vegetable\": \"potato\",\n",
    "  \"fruit\": \"banana\",\n",
    "  \"chocolate\": \"gems\"\n",
    "}\n",
    "\n",
    "print(d)\n",
    "\n",
    "l = [\"avin\", 23,34,89,30.09,\"raman\",True]\n",
    "\n",
    "print(l)"
   ]
  },
  {
   "cell_type": "markdown",
   "id": "56ecb797",
   "metadata": {},
   "source": [
    "4. What happens if you try to access spam['foo'] if spam is {'bar': 100}?"
   ]
  },
  {
   "cell_type": "markdown",
   "id": "fac80177",
   "metadata": {},
   "source": [
    "spam = {\"bar\":100}\n",
    "spam['foo']\n",
    "\n",
    "Ans. \n",
    "\n",
    "here in given spam there is no key mention in the name of 'foo', so there will keyError."
   ]
  },
  {
   "cell_type": "markdown",
   "id": "af969cad",
   "metadata": {},
   "source": [
    "5. If a dictionary is stored in spam, what is the difference between the expressions 'cat' in spam and 'cat' in spam.keys()?"
   ]
  },
  {
   "cell_type": "code",
   "execution_count": 19,
   "id": "0c72e5fe",
   "metadata": {},
   "outputs": [
    {
     "data": {
      "text/plain": [
       "True"
      ]
     },
     "execution_count": 19,
     "metadata": {},
     "output_type": "execute_result"
    }
   ],
   "source": [
    "spam ={'cat':100}\n",
    "'cat' in spam"
   ]
  },
  {
   "cell_type": "code",
   "execution_count": 20,
   "id": "95131678",
   "metadata": {},
   "outputs": [
    {
     "data": {
      "text/plain": [
       "True"
      ]
     },
     "execution_count": 20,
     "metadata": {},
     "output_type": "execute_result"
    }
   ],
   "source": [
    "spam ={'cat':100}\n",
    "'cat' in spam.keys()"
   ]
  },
  {
   "cell_type": "code",
   "execution_count": 21,
   "id": "543acda9",
   "metadata": {},
   "outputs": [],
   "source": [
    "#there is no differnece, both statament check \"cat\" as a key is availble in spam or not."
   ]
  },
  {
   "cell_type": "markdown",
   "id": "7c95c697",
   "metadata": {},
   "source": [
    "6. If a dictionary is stored in spam, what is the difference between the expressions 'cat' in spam and 'cat' in spam.values()?"
   ]
  },
  {
   "cell_type": "code",
   "execution_count": 22,
   "id": "72721171",
   "metadata": {},
   "outputs": [
    {
     "data": {
      "text/plain": [
       "True"
      ]
     },
     "execution_count": 22,
     "metadata": {},
     "output_type": "execute_result"
    }
   ],
   "source": [
    "spam ={'cat':100}\n",
    "'cat' in spam"
   ]
  },
  {
   "cell_type": "code",
   "execution_count": 23,
   "id": "f4ea347b",
   "metadata": {},
   "outputs": [
    {
     "data": {
      "text/plain": [
       "False"
      ]
     },
     "execution_count": 23,
     "metadata": {},
     "output_type": "execute_result"
    }
   ],
   "source": [
    "spam ={'cat':100}\n",
    "'cat' in spam.values()"
   ]
  },
  {
   "cell_type": "code",
   "execution_count": 25,
   "id": "9a177b9e",
   "metadata": {},
   "outputs": [],
   "source": [
    "#first exprresion return True because cat is present in spam and in second expresion we are checking values and here\n",
    "#cat is key not values so, it returns false."
   ]
  },
  {
   "cell_type": "markdown",
   "id": "c684e7f7",
   "metadata": {},
   "source": [
    "7. What is a shortcut for the following code?\n",
    "\n",
    "if 'color' not in spam:\n",
    "\n",
    "spam['color'] = 'black'"
   ]
  },
  {
   "cell_type": "code",
   "execution_count": 35,
   "id": "6f462560",
   "metadata": {},
   "outputs": [],
   "source": [
    "spam = {\"cat\" : 100}\n",
    "spam.setdefault(\"color\" , \"black\")\n",
    "\n",
    "if 'color' not in spam:\n",
    "    \n",
    "     spam['color'] = 'black'\n",
    "\n"
   ]
  },
  {
   "cell_type": "markdown",
   "id": "930c1c15",
   "metadata": {},
   "source": [
    "8. How do you \"pretty print\" dictionary values using which module and function?"
   ]
  },
  {
   "cell_type": "markdown",
   "id": "fd8d1f56",
   "metadata": {},
   "source": [
    "Ans. \n",
    "\n",
    "pprint is a Python module that provides the capability to pretty print Python data types to be more readable.\n",
    "This module also supports pretty-printing dictionary."
   ]
  },
  {
   "cell_type": "code",
   "execution_count": 42,
   "id": "bf21a4e4",
   "metadata": {},
   "outputs": [
    {
     "name": "stdout",
     "output_type": "stream",
     "text": [
      "[{'Name': 'Shiva', 'Age': '23', 'Country': 'India'}, {'Name': 'Anna', 'Age': '44', 'Country': 'China'}, {'Name': 'Joe', 'Age': '29', 'Country': 'UK'}, {'Name': 'Chumlee', 'Age': '35', 'Country': 'USA'}]\n"
     ]
    }
   ],
   "source": [
    "\n",
    "dct = [ {'Name': 'Shiva', 'Age': '23', 'Country': 'India'},\n",
    "  {'Name': 'Anna', 'Age': '44', 'Country': 'China'},\n",
    "  {'Name': 'Joe', 'Age': '29', 'Country': 'UK'},\n",
    "  {'Name': 'Chumlee', 'Age': '35', 'Country': 'USA'}\n",
    "]\n",
    "\n",
    "print(dct)"
   ]
  },
  {
   "cell_type": "code",
   "execution_count": 43,
   "id": "02244f9a",
   "metadata": {},
   "outputs": [
    {
     "name": "stdout",
     "output_type": "stream",
     "text": [
      "[{'Age': '23', 'Country': 'India', 'Name': 'Shiva'},\n",
      " {'Age': '44', 'Country': 'China', 'Name': 'Anna'},\n",
      " {'Age': '29', 'Country': 'UK', 'Name': 'Joe'},\n",
      " {'Age': '35', 'Country': 'USA', 'Name': 'Chumlee'}]\n"
     ]
    }
   ],
   "source": [
    "import pprint\n",
    "\n",
    "dct = [ {'Name': 'Shiva', 'Age': '23', 'Country': 'India'},\n",
    "  {'Name': 'Anna', 'Age': '44', 'Country': 'China'},\n",
    "  {'Name': 'Joe', 'Age': '29', 'Country': 'UK'},\n",
    "  {'Name': 'Chumlee', 'Age': '35', 'Country': 'USA'}\n",
    "]\n",
    "\n",
    "pprint.pprint(dct)"
   ]
  }
 ],
 "metadata": {
  "kernelspec": {
   "display_name": "Python 3 (ipykernel)",
   "language": "python",
   "name": "python3"
  },
  "language_info": {
   "codemirror_mode": {
    "name": "ipython",
    "version": 3
   },
   "file_extension": ".py",
   "mimetype": "text/x-python",
   "name": "python",
   "nbconvert_exporter": "python",
   "pygments_lexer": "ipython3",
   "version": "3.9.7"
  }
 },
 "nbformat": 4,
 "nbformat_minor": 5
}
