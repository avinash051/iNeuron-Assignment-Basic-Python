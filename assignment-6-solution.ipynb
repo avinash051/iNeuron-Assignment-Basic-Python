{
 "cells": [
  {
   "cell_type": "markdown",
   "id": "69632e41",
   "metadata": {},
   "source": [
    "1. What are escape characters, and how do you use them?"
   ]
  },
  {
   "cell_type": "markdown",
   "id": "633e3350",
   "metadata": {},
   "source": [
    "In python string  \"\\\" backslash is called as a escape charecter. it is used in whitespace characters: \"\\t\" is a tab, \"\\n\" is a newline, and \"\\r\" is a carriage return"
   ]
  },
  {
   "cell_type": "code",
   "execution_count": 1,
   "id": "e7c9a351",
   "metadata": {},
   "outputs": [
    {
     "name": "stdout",
     "output_type": "stream",
     "text": [
      "Hello i am avinash\n"
     ]
    }
   ],
   "source": [
    "print(\"Hello \\\n",
    "i \\\n",
    "am \\\n",
    "avinash\")"
   ]
  },
  {
   "cell_type": "markdown",
   "id": "53b2d507",
   "metadata": {},
   "source": [
    "2. What do the escape characters n and t stand for?"
   ]
  },
  {
   "cell_type": "markdown",
   "id": "b3276381",
   "metadata": {},
   "source": [
    "\"\\n \" stands for new line and \"\\t\" stands tab space"
   ]
  },
  {
   "cell_type": "code",
   "execution_count": 3,
   "id": "843cb4b1",
   "metadata": {},
   "outputs": [
    {
     "name": "stdout",
     "output_type": "stream",
     "text": [
      "hello friends\n"
     ]
    }
   ],
   "source": [
    "print(\"hello \\\n",
    "friends\")"
   ]
  },
  {
   "cell_type": "code",
   "execution_count": 6,
   "id": "8aad1462",
   "metadata": {},
   "outputs": [
    {
     "name": "stdout",
     "output_type": "stream",
     "text": [
      "hello \tfriends\n"
     ]
    }
   ],
   "source": [
    "print(\"hello \\tfriends\")"
   ]
  },
  {
   "cell_type": "markdown",
   "id": "8fd1ceb4",
   "metadata": {},
   "source": [
    "3. What is the way to include backslash characters in a string?"
   ]
  },
  {
   "cell_type": "code",
   "execution_count": 7,
   "id": "41b7f1f5",
   "metadata": {},
   "outputs": [
    {
     "name": "stdout",
     "output_type": "stream",
     "text": [
      "i am \"avinash\"\n"
     ]
    }
   ],
   "source": [
    "print('i am \"avinash\"')"
   ]
  },
  {
   "cell_type": "code",
   "execution_count": 13,
   "id": "4d2af62a",
   "metadata": {},
   "outputs": [
    {
     "name": "stdout",
     "output_type": "stream",
     "text": [
      "what's your name ?\n"
     ]
    }
   ],
   "source": [
    "print(\"what's your name \\\n",
    "?\")"
   ]
  },
  {
   "cell_type": "markdown",
   "id": "80907d6b",
   "metadata": {},
   "source": [
    "4. The string \"Howl's Moving Castle\" is a correct value. Why isn't the single quote character in the word Howl's not escaped a problem?"
   ]
  },
  {
   "cell_type": "code",
   "execution_count": 14,
   "id": "55ee74fa",
   "metadata": {},
   "outputs": [
    {
     "name": "stdout",
     "output_type": "stream",
     "text": [
      "Howl's Moving Castle\n"
     ]
    }
   ],
   "source": [
    "print(\"Howl's Moving Castle\")"
   ]
  },
  {
   "cell_type": "code",
   "execution_count": 16,
   "id": "38de1b1e",
   "metadata": {},
   "outputs": [
    {
     "name": "stdout",
     "output_type": "stream",
     "text": [
      "how\"s \"movie\" castle\n"
     ]
    }
   ],
   "source": [
    "print('how\"s \"movie\" castle')"
   ]
  },
  {
   "cell_type": "markdown",
   "id": "c82593eb",
   "metadata": {},
   "source": [
    "5. How do you write a string of newlines if you don't want to use the n character?"
   ]
  },
  {
   "cell_type": "code",
   "execution_count": 21,
   "id": "da96b406",
   "metadata": {},
   "outputs": [
    {
     "name": "stdout",
     "output_type": "stream",
     "text": [
      "i am avinash\n",
      "working as a ui developer\n",
      "data scientist"
     ]
    }
   ],
   "source": [
    "print(\"i am avinash\")\n",
    "print(\"working as a ui developer\", end=\"\\n\" \"data scientist\")"
   ]
  },
  {
   "cell_type": "markdown",
   "id": "2201f5bc",
   "metadata": {},
   "source": [
    "6. What are the values of the given expressions?\n",
    "\n",
    "'Hello, world!'[1]\n",
    "\n",
    "'Hello, world!'[0:5]\n",
    "\n",
    "'Hello, world!'[:5]\n",
    "\n",
    "'Hello, world!'[3:]"
   ]
  },
  {
   "cell_type": "markdown",
   "id": "f09d68b9",
   "metadata": {},
   "source": []
  },
  {
   "cell_type": "code",
   "execution_count": 23,
   "id": "78649bcf",
   "metadata": {},
   "outputs": [
    {
     "data": {
      "text/plain": [
       "'e'"
      ]
     },
     "execution_count": 23,
     "metadata": {},
     "output_type": "execute_result"
    }
   ],
   "source": [
    "'Hello, world!'[1]"
   ]
  },
  {
   "cell_type": "code",
   "execution_count": 24,
   "id": "b47f9bab",
   "metadata": {},
   "outputs": [
    {
     "data": {
      "text/plain": [
       "'Hello'"
      ]
     },
     "execution_count": 24,
     "metadata": {},
     "output_type": "execute_result"
    }
   ],
   "source": [
    "'Hello, world!'[0:5]"
   ]
  },
  {
   "cell_type": "code",
   "execution_count": 25,
   "id": "0026c5a3",
   "metadata": {},
   "outputs": [
    {
     "data": {
      "text/plain": [
       "'Hello'"
      ]
     },
     "execution_count": 25,
     "metadata": {},
     "output_type": "execute_result"
    }
   ],
   "source": [
    "'Hello, world!'[:5]"
   ]
  },
  {
   "cell_type": "code",
   "execution_count": 26,
   "id": "ae609ed8",
   "metadata": {},
   "outputs": [
    {
     "data": {
      "text/plain": [
       "'lo, world!'"
      ]
     },
     "execution_count": 26,
     "metadata": {},
     "output_type": "execute_result"
    }
   ],
   "source": [
    "'Hello, world!'[3:]"
   ]
  },
  {
   "cell_type": "markdown",
   "id": "53cd35be",
   "metadata": {},
   "source": [
    "7. What are the values of the following expressions?\n",
    "\n",
    "'Hello'.upper()\n",
    "\n",
    "'Hello'.upper().isupper()\n",
    "\n",
    "'Hello'.upper().lower()"
   ]
  },
  {
   "cell_type": "code",
   "execution_count": 28,
   "id": "1daa977b",
   "metadata": {},
   "outputs": [
    {
     "data": {
      "text/plain": [
       "'HELLO'"
      ]
     },
     "execution_count": 28,
     "metadata": {},
     "output_type": "execute_result"
    }
   ],
   "source": [
    "'hello'.upper()"
   ]
  },
  {
   "cell_type": "code",
   "execution_count": 29,
   "id": "a4b73151",
   "metadata": {},
   "outputs": [
    {
     "data": {
      "text/plain": [
       "True"
      ]
     },
     "execution_count": 29,
     "metadata": {},
     "output_type": "execute_result"
    }
   ],
   "source": [
    "'Hello'.upper().isupper()"
   ]
  },
  {
   "cell_type": "code",
   "execution_count": 30,
   "id": "d4958224",
   "metadata": {},
   "outputs": [
    {
     "data": {
      "text/plain": [
       "'hello'"
      ]
     },
     "execution_count": 30,
     "metadata": {},
     "output_type": "execute_result"
    }
   ],
   "source": [
    "'Hello'.upper().lower()"
   ]
  },
  {
   "cell_type": "markdown",
   "id": "60eebdb0",
   "metadata": {},
   "source": [
    "8. What are the values of the following expressions?"
   ]
  },
  {
   "cell_type": "markdown",
   "id": "6099da52",
   "metadata": {},
   "source": [
    "'Remember, remember, the fifth of July.'.split()\n",
    "\n",
    "'-'.join('There can only one.'.split())"
   ]
  },
  {
   "cell_type": "code",
   "execution_count": 34,
   "id": "087ed203",
   "metadata": {},
   "outputs": [
    {
     "data": {
      "text/plain": [
       "['Remember,', 'remember,', 'the', 'fifth', 'of', 'July.']"
      ]
     },
     "execution_count": 34,
     "metadata": {},
     "output_type": "execute_result"
    }
   ],
   "source": [
    "'Remember, remember, the fifth of July.'.split()"
   ]
  },
  {
   "cell_type": "code",
   "execution_count": 32,
   "id": "f31ea790",
   "metadata": {},
   "outputs": [
    {
     "data": {
      "text/plain": [
       "'There-can-only-one.'"
      ]
     },
     "execution_count": 32,
     "metadata": {},
     "output_type": "execute_result"
    }
   ],
   "source": [
    "'-'.join('There can only one.'.split())"
   ]
  },
  {
   "cell_type": "markdown",
   "id": "a7903b93",
   "metadata": {},
   "source": [
    "9. What are the methods for right-justifying, left-justifying, and centering a string?"
   ]
  },
  {
   "cell_type": "code",
   "execution_count": 37,
   "id": "9ef29019",
   "metadata": {},
   "outputs": [
    {
     "data": {
      "text/plain": [
       "'Avinash-------------'"
      ]
     },
     "execution_count": 37,
     "metadata": {},
     "output_type": "execute_result"
    }
   ],
   "source": [
    "\n",
    "str =\"Avinash\"\n",
    "str.ljust(20,\"-\") #Left justify"
   ]
  },
  {
   "cell_type": "code",
   "execution_count": 38,
   "id": "21cf80bb",
   "metadata": {},
   "outputs": [
    {
     "data": {
      "text/plain": [
       "'###############kumar'"
      ]
     },
     "execution_count": 38,
     "metadata": {},
     "output_type": "execute_result"
    }
   ],
   "source": [
    "str = \"kumar\"\n",
    "str.rjust(20,\"#\") #right justify"
   ]
  },
  {
   "cell_type": "code",
   "execution_count": 39,
   "id": "f106e77a",
   "metadata": {},
   "outputs": [
    {
     "data": {
      "text/plain": [
       "'$$$$$$$center$$$$$$$'"
      ]
     },
     "execution_count": 39,
     "metadata": {},
     "output_type": "execute_result"
    }
   ],
   "source": [
    "str = 'center'\n",
    "str.center(20,\"$\") #centering "
   ]
  },
  {
   "cell_type": "markdown",
   "id": "5f2638d5",
   "metadata": {},
   "source": [
    "10. What is the best way to remove whitespace characters from the start or end?"
   ]
  },
  {
   "cell_type": "code",
   "execution_count": 40,
   "id": "506b9525",
   "metadata": {},
   "outputs": [
    {
     "data": {
      "text/plain": [
       "'I am avinash kumar'"
      ]
     },
     "execution_count": 40,
     "metadata": {},
     "output_type": "execute_result"
    }
   ],
   "source": [
    "#Best way to remove whitespace use lstrip() and rstrip()\n",
    "sen = \"      I am avinash kumar\"\n",
    "sen.lstrip()"
   ]
  },
  {
   "cell_type": "code",
   "execution_count": 41,
   "id": "d4a24025",
   "metadata": {},
   "outputs": [
    {
     "data": {
      "text/plain": [
       "'I am avinash kumar'"
      ]
     },
     "execution_count": 41,
     "metadata": {},
     "output_type": "execute_result"
    }
   ],
   "source": [
    "sen2 = \"i am kumar       \"\n",
    "sen.strip()"
   ]
  }
 ],
 "metadata": {
  "kernelspec": {
   "display_name": "Python 3 (ipykernel)",
   "language": "python",
   "name": "python3"
  },
  "language_info": {
   "codemirror_mode": {
    "name": "ipython",
    "version": 3
   },
   "file_extension": ".py",
   "mimetype": "text/x-python",
   "name": "python",
   "nbconvert_exporter": "python",
   "pygments_lexer": "ipython3",
   "version": "3.9.7"
  }
 },
 "nbformat": 4,
 "nbformat_minor": 5
}
