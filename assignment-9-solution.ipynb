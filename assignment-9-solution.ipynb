{
 "cells": [
  {
   "cell_type": "markdown",
   "id": "2e7b8301",
   "metadata": {},
   "source": [
    "1. To what does a relative path refer?"
   ]
  },
  {
   "cell_type": "markdown",
   "id": "5a0b026a",
   "metadata": {},
   "source": [
    "Ans: The relative path is the path to some file with respect to your current working directory (PWD).\n",
    "\n",
    "For example: if Absolute path to a file called stuff.txt is: C:/users/admin/docs/iNeuron.txt If my PWD is C:/users/admin/ , then the relative path to iNeuron.txt would be: docs/iNeuron.txt\n",
    "\n",
    "Note: PWD + relative path = absolute path"
   ]
  },
  {
   "cell_type": "markdown",
   "id": "c39304fc",
   "metadata": {},
   "source": [
    "2. What does an absolute path start with your operating system?"
   ]
  },
  {
   "cell_type": "markdown",
   "id": "07d0584f",
   "metadata": {},
   "source": [
    "Ans: In Linux based Operating systems the absolute path starts with / where as in Windows based Operating systems absolute path starts with C:"
   ]
  },
  {
   "cell_type": "markdown",
   "id": "c5c7c984",
   "metadata": {},
   "source": [
    "3. What do the functions os.getcwd() and os.chdir() do?"
   ]
  },
  {
   "cell_type": "markdown",
   "id": "60facdee",
   "metadata": {},
   "source": [
    "Ans: os.getcwd() method tells us the location of current working directory (CWD) whereas os.chdir() method in Python used to change the current working directory to specified path. These functions are similar to linux commands pwd and cd"
   ]
  },
  {
   "cell_type": "code",
   "execution_count": 5,
   "id": "b686b2c4",
   "metadata": {},
   "outputs": [
    {
     "name": "stdout",
     "output_type": "stream",
     "text": [
      "/Users/avinashkumar/Desktop/INEURON/assignment\n",
      "/Users/avinashkumar/Downloads\n"
     ]
    }
   ],
   "source": [
    "import os\n",
    "print(os.getcwd()) # Prints the current Working Directory\n",
    "path = r'/Users/avinashkumar/Downloads/'\n",
    "os.chdir(path)\n",
    "print(os.getcwd())"
   ]
  },
  {
   "cell_type": "markdown",
   "id": "a5088db1",
   "metadata": {},
   "source": [
    "4. What are the . and .. folders?"
   ]
  },
  {
   "cell_type": "markdown",
   "id": "e1247ffb",
   "metadata": {},
   "source": [
    "Ans.  . Represents the Current Directory Whereas .. Represents the Parent Directory of the Current Directory"
   ]
  },
  {
   "cell_type": "markdown",
   "id": "005e6093",
   "metadata": {},
   "source": [
    "5. In /Users/avinashkumar/Downloads/2552371.jpeg, which part is the dir name, and which part is the base name?"
   ]
  },
  {
   "cell_type": "markdown",
   "id": "4915a77b",
   "metadata": {},
   "source": [
    "For /Users/avinashkumar/Downloads/2552371.jpeg\n",
    "\n",
    "The Directory name is /Users/avinashkumar/Downloads/2552371.jpeg\n",
    "\n",
    "The Base name is 2552371.jpeg"
   ]
  },
  {
   "cell_type": "code",
   "execution_count": 7,
   "id": "af72e006",
   "metadata": {},
   "outputs": [
    {
     "name": "stdout",
     "output_type": "stream",
     "text": [
      "/Users/avinashkumar/Downloads\n",
      "2552371.jpeg\n"
     ]
    }
   ],
   "source": [
    "import os\n",
    "path = r'/Users/avinashkumar/Downloads/2552371.jpeg'\n",
    "print(os.path.dirname(path))\n",
    "print(os.path.basename(path))"
   ]
  },
  {
   "cell_type": "markdown",
   "id": "35d76e75",
   "metadata": {},
   "source": [
    "6. What are the three “mode” arguments that can be passed to the open() function?"
   ]
  },
  {
   "cell_type": "raw",
   "id": "daf2ac8e",
   "metadata": {},
   "source": [
    "Ans: \n",
    "\n",
    "A file can be Accessed in python using open() function. Open function takes two arguments filename and mode of operation (optional). If mode is not provided, the default mode of opening is Read mode.\n",
    "So, the syntax is: open(filename, mode)\n",
    "\n",
    "‘r’ – Read Mode: This is the default mode for open(). The file is opened and a pointer is positioned at the beginning of the file’s content.\n",
    "‘w’ – Write Mode: Using this mode will overwrite any existing content in a file. If the given file does not exist, a new one will be created.\n",
    "‘r+’ – Read/Write Mode: Use this mode if you need to simultaneously read and write to a file.\n",
    "‘a’ – Append Mode: With this mode the user can append the data without overwriting any already existing data in the file.\n",
    "‘a+’ – Append and Read Mode: In this mode you can read and append the data without overwriting the original file.\n",
    "‘x’ – Exclusive Creating Mode: This mode is for the sole purpose of creating new files. Use this mode if you know the file to be written doesn’t exist beforehand."
   ]
  },
  {
   "cell_type": "markdown",
   "id": "851efb24",
   "metadata": {},
   "source": [
    "7. What happens if an existing file is opened in write mode?"
   ]
  },
  {
   "cell_type": "markdown",
   "id": "3dee27fb",
   "metadata": {},
   "source": [
    "Ans. \n",
    "\n",
    "Using this mode, we can overwrite any existing content in a file. If the given file does not exist then a new one will be created."
   ]
  },
  {
   "cell_type": "markdown",
   "id": "56ad1cd1",
   "metadata": {},
   "source": [
    "8. How do you tell the difference between read() and readlines()?"
   ]
  },
  {
   "cell_type": "markdown",
   "id": "9ccd46d6",
   "metadata": {},
   "source": [
    "Ans: \n",
    "\n",
    "The main difference is that read() will read the whole file at once and then print out the first characters that take up as many bytes as we specify in the parenthesis\n",
    "\n",
    "whereas the readline() that will read and print out only the first characters that take up as many bytes as we specify in the parenthesis. We may want to use readline() when we are reading files that are too big for our RAM.\n",
    "The read() would treat each character in the file separately, meaning that the iteration would happen for every character.\n",
    "\n",
    "The readline() function, on the other hand, only reads a single line of the file. This means that if the first line of the file were three lines long, the readline() function would only parse (or iterate/operate) on the first line of the file."
   ]
  },
  {
   "cell_type": "markdown",
   "id": "e44f3630",
   "metadata": {},
   "source": [
    "9. What data structure does a shelf value resemble?"
   ]
  },
  {
   "cell_type": "markdown",
   "id": "43bea2ec",
   "metadata": {},
   "source": [
    " Ans:\n",
    " \n",
    "It contains key and values it represents dictionary. The Shelve Module of Python is a very popular module of Python which works like an effective tool for persistent data storage inside files using a Python program. As the name of this module suggests, i.e., Shelve, we can easily interpret that it will work as a shelf object to keep all our data inside a file and save all the necessary information. In the Shelve Module, a shelf object is defined, which acts like a dictionary-type object, and it is persistently stored in the disk file of our computer. That's how we can save all the data and information through Python Shelve Module in our system and keep it till whenever we want."
   ]
  },
  {
   "cell_type": "code",
   "execution_count": 9,
   "id": "2bd2ef3b",
   "metadata": {},
   "outputs": [
    {
     "name": "stdout",
     "output_type": "stream",
     "text": [
      "A Shelve file with SampleFile name is successfully created\n",
      "All entries are successfully made inside the sample shelve file\n"
     ]
    }
   ],
   "source": [
    "  # Importing the Shelve Module  \n",
    "import shelve  \n",
    "    # Creating a shelve file with open() function  \n",
    "shelveVariable = shelve.open(\"SampleFile\")  \n",
    "print(\"A Shelve file with SampleFile name is successfully created\")  \n",
    "    # Making entries inside the shelve file  \n",
    "shelveVariable['Employee Name'] = 'Jackie Chan'  \n",
    "shelveVariable['Employee Age'] = 27  \n",
    "shelveVariable['Employee department'] = 'Management'  \n",
    "shelveVariable['Employee Performance'] = 'Excellent'  \n",
    "shelveVariable['Employee Score'] = 9.2  \n",
    "shelveVariable.close()  \n",
    "print(\"All entries are successfully made inside the sample shelve file\") "
   ]
  },
  {
   "cell_type": "code",
   "execution_count": null,
   "id": "65b93a54",
   "metadata": {},
   "outputs": [],
   "source": []
  }
 ],
 "metadata": {
  "kernelspec": {
   "display_name": "Python 3 (ipykernel)",
   "language": "python",
   "name": "python3"
  },
  "language_info": {
   "codemirror_mode": {
    "name": "ipython",
    "version": 3
   },
   "file_extension": ".py",
   "mimetype": "text/x-python",
   "name": "python",
   "nbconvert_exporter": "python",
   "pygments_lexer": "ipython3",
   "version": "3.9.12"
  }
 },
 "nbformat": 4,
 "nbformat_minor": 5
}
